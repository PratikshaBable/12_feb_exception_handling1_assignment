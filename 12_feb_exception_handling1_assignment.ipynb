{
  "nbformat": 4,
  "nbformat_minor": 0,
  "metadata": {
    "colab": {
      "provenance": []
    },
    "kernelspec": {
      "name": "python3",
      "display_name": "Python 3"
    },
    "language_info": {
      "name": "python"
    }
  },
  "cells": [
    {
      "cell_type": "code",
      "execution_count": null,
      "metadata": {
        "id": "AzWeJPEtrm8H"
      },
      "outputs": [],
      "source": [
        "# Q1. What is an Exception in python? Write the difference between Exceptions and Syntax errors?\n",
        "# Errors detected during execution are called exceptions.\n",
        "# An error is an issue in a program that prevents the program from completing its task. In comparison, an exception is a condition that interrupts the normal flow of the program.\n",
        "# Both errors and exceptions are a type of runtime error, which means they occur during the execution of a program."
      ]
    },
    {
      "cell_type": "code",
      "source": [
        "# Q2.\n",
        "# If an exception occurs during execution of the try clause, the exception may be handled by an except clause.\n",
        "# If the exception is not handled by an except clause, the exception is re-raised after the finally clause has been executed.\n",
        "\n",
        "def divide(x, y):\n",
        "    try:\n",
        "        result = x / y\n",
        "    except ZeroDivisionError:\n",
        "        print(\"division by zero!\")\n",
        "    else:\n",
        "        print(\"result is\", result)\n",
        "    finally:\n",
        "        print(\"executing finally clause\")\n",
        "\n",
        "divide(2, 1)"
      ],
      "metadata": {
        "colab": {
          "base_uri": "https://localhost:8080/"
        },
        "id": "xtsxkpzOsiKc",
        "outputId": "536caa96-ca5b-45be-d5f8-2d9041761288"
      },
      "execution_count": 1,
      "outputs": [
        {
          "output_type": "stream",
          "name": "stdout",
          "text": [
            "result is 2.0\n",
            "executing finally clause\n"
          ]
        }
      ]
    },
    {
      "cell_type": "code",
      "source": [
        "divide(2, 0)"
      ],
      "metadata": {
        "colab": {
          "base_uri": "https://localhost:8080/"
        },
        "id": "TxowK-yRr1nW",
        "outputId": "aab4bdbf-9ade-4da5-a137-e91c8e982119"
      },
      "execution_count": 2,
      "outputs": [
        {
          "output_type": "stream",
          "name": "stdout",
          "text": [
            "division by zero!\n",
            "executing finally clause\n"
          ]
        }
      ]
    },
    {
      "cell_type": "code",
      "source": [
        "# Q3.\n",
        "# The try and except block in Python is used to catch and handle exceptions.\n",
        "# Python executes code following the try statement as a “normal” part of the program.\n",
        "\n",
        "x = 5\n",
        "y = \"hello\"\n",
        "try:\n",
        "\tz = x + y\n",
        "except TypeError:\n",
        "\tprint(\"Error: cannot add an int and a str\")\n"
      ],
      "metadata": {
        "colab": {
          "base_uri": "https://localhost:8080/"
        },
        "id": "xckzY7A6tdrj",
        "outputId": "c697cc97-2cfb-4b8f-841c-f422b5186a24"
      },
      "execution_count": 3,
      "outputs": [
        {
          "output_type": "stream",
          "name": "stdout",
          "text": [
            "Error: cannot add an int and a str\n"
          ]
        }
      ]
    },
    {
      "cell_type": "code",
      "source": [
        "# Q4.\n",
        "# Try: This block will test the excepted error to occur\n",
        "# Except:  Here you can handle the error\n",
        "# Else: If there is no exception then this block will be executed\n",
        "# Finally: Finally block always gets executed either exception is generated or not\n",
        "# Raise: The raise keyword is used to raise an exception.\n",
        "\n",
        "# Python code to illustrate working of try()\n",
        "def divide(x, y):\n",
        "\ttry:\n",
        "\t\t# Floor Division : Gives only Fractional\n",
        "\t\t# Part as Answer\n",
        "\t\tresult = x // y\n",
        "\texcept ZeroDivisionError:\n",
        "\t\tprint(\"Sorry ! You are dividing by zero \")\n",
        "\telse:\n",
        "\t\tprint(\"Yeah ! Your answer is :\", result)\n",
        "\n",
        "# Look at parameters and note the working of Program\n",
        "divide(3, 2)\n",
        "divide(3, 0)\n"
      ],
      "metadata": {
        "colab": {
          "base_uri": "https://localhost:8080/"
        },
        "id": "r6piQ1pst3cz",
        "outputId": "9eb8505f-4be4-4cfb-ec1e-b888328a1b5e"
      },
      "execution_count": 9,
      "outputs": [
        {
          "output_type": "stream",
          "name": "stdout",
          "text": [
            "Yeah ! Your answer is : 1\n",
            "Sorry ! You are dividing by zero \n"
          ]
        }
      ]
    },
    {
      "cell_type": "code",
      "source": [
        "# Python code to illustrate\n",
        "# working of try()\n",
        "def divide(x, y):\n",
        "\ttry:\n",
        "\t\t# Floor Division : Gives only Fractional\n",
        "\t\t# Part as Answer\n",
        "\t\tresult = x // y\n",
        "\texcept ZeroDivisionError:\n",
        "\t\tprint(\"Sorry ! You are dividing by zero \")\n",
        "\telse:\n",
        "\t\tprint(\"Yeah ! Your answer is :\", result)\n",
        "\tfinally:\n",
        "\t\t# this block is always executed\n",
        "\t\t# regardless of exception generation.\n",
        "\t\tprint('This is always executed')\n",
        "\n",
        "# Look at parameters and note the working of Program\n",
        "divide(3, 2)\n",
        "divide(3, 0)\n"
      ],
      "metadata": {
        "colab": {
          "base_uri": "https://localhost:8080/"
        },
        "id": "8vtbGAy8uX2N",
        "outputId": "bf2ea252-fcce-4eee-818d-1d2f60f700a8"
      },
      "execution_count": 5,
      "outputs": [
        {
          "output_type": "stream",
          "name": "stdout",
          "text": [
            "Yeah ! Your answer is : 1\n",
            "This is always executed\n",
            "Sorry ! You are dividing by zero \n",
            "This is always executed\n"
          ]
        }
      ]
    },
    {
      "cell_type": "code",
      "source": [
        "class validateage(Exception):\n",
        "\n",
        "    def __init__(self , msg) :\n",
        "        self.msg = msg"
      ],
      "metadata": {
        "id": "0HQpVgV2ubdi"
      },
      "execution_count": 6,
      "outputs": []
    },
    {
      "cell_type": "code",
      "source": [
        "def validaetage(age) :\n",
        "    if age < 0 :\n",
        "        raise validateage(\"entered age is negative \" )\n",
        "    elif age > 200 :\n",
        "        raise validateage(\"enterd age is very very high \" )\n",
        "    else :\n",
        "        print(\"age is valid\" )"
      ],
      "metadata": {
        "id": "vaR4YnMruoAB"
      },
      "execution_count": 7,
      "outputs": []
    },
    {
      "cell_type": "code",
      "source": [
        "try :\n",
        "    age = int(input(\"enter your age\" ))\n",
        "    validaetage(age)\n",
        "except validateage as e :\n",
        "    print(e)"
      ],
      "metadata": {
        "colab": {
          "base_uri": "https://localhost:8080/"
        },
        "id": "EFlvZoVpun1i",
        "outputId": "302a00c8-dae5-412d-ae2d-61b8861fa066"
      },
      "execution_count": 8,
      "outputs": [
        {
          "output_type": "stream",
          "name": "stdout",
          "text": [
            "enter your age-23\n",
            "entered age is negative \n"
          ]
        }
      ]
    },
    {
      "cell_type": "code",
      "source": [
        "# Q5.\n",
        "# Custom exceptions are helpful in many situations. They allow you to define your own error conditions and handle them in a more specific and meaningful way.\n",
        "# It helps the developers to avoid writing too many if-else blocks, and organize the application code.\n",
        "\n",
        "class validateage(Exception):\n",
        "\n",
        "    def __init__(self , msg) :\n",
        "        self.msg = msg\n",
        "\n",
        "def validaetage(age) :\n",
        "    if age < 0 :\n",
        "        raise validateage(\"entered age is negative \" )\n",
        "    elif age > 200 :\n",
        "        raise validateage(\"enterd age is very very high \" )\n",
        "    else :\n",
        "        print(\"age is valid\" )\n",
        "\n",
        "try :\n",
        "    age = int(input(\"enter your age\" ))\n",
        "    validaetage(age)\n",
        "except validateage as e :\n",
        "    print(e)"
      ],
      "metadata": {
        "colab": {
          "base_uri": "https://localhost:8080/"
        },
        "id": "cLEQGXuou7Kp",
        "outputId": "d8178b4d-ae08-4179-eb16-035590e89472"
      },
      "execution_count": 10,
      "outputs": [
        {
          "output_type": "stream",
          "name": "stdout",
          "text": [
            "enter your age-100\n",
            "entered age is negative \n"
          ]
        }
      ]
    },
    {
      "cell_type": "code",
      "source": [
        "# Q6.\n",
        "# class validateage(Exception):\n",
        "\n",
        "class validateage(Exception):\n",
        "   def __init__(self , msg) :\n",
        "        self.msg = msg\n",
        "\n",
        "def validaetage(age) :\n",
        "    if age < 0 :\n",
        "        raise validateage(\"entered age is negative \" )\n",
        "    elif age > 200 :\n",
        "        raise validateage(\"enterd age is very very high \" )\n",
        "    else :\n",
        "        print(\"age is valid\" )\n",
        "\n",
        "try :\n",
        "    age = int(input(\"enter your age\" ))\n",
        "    validaetage(age)\n",
        "except validateage as e :\n",
        "    print(e)"
      ],
      "metadata": {
        "colab": {
          "base_uri": "https://localhost:8080/"
        },
        "id": "kg2R5Sc7vert",
        "outputId": "ef010888-e374-48da-c583-1471f93667f2"
      },
      "execution_count": 12,
      "outputs": [
        {
          "output_type": "stream",
          "name": "stdout",
          "text": [
            "enter your age500\n",
            "enterd age is very very high \n"
          ]
        }
      ]
    }
  ]
}